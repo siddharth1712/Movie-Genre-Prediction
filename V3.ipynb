{
 "cells": [
  {
   "cell_type": "code",
   "execution_count": 32,
   "id": "9017e960",
   "metadata": {},
   "outputs": [],
   "source": [
    "from pathlib import Path\n",
    "import os\n",
    "import pandas as pd\n",
    "import numpy as np\n",
    "import matplotlib.pyplot as plt\n",
    "import tensorflow as tf\n",
    "from PIL import Image\n",
    "import json\n",
    "\n",
    "base_path=str(Path().absolute())"
   ]
  },
  {
   "cell_type": "code",
   "execution_count": 33,
   "id": "6f075e86",
   "metadata": {},
   "outputs": [],
   "source": [
    "i=1980\n",
    "while True:\n",
    "    with open(base_path+\"\\\\groundtruth\"+\"\\\\\"+str(i)+\".txt\",'r',encoding='utf_8') as fp:\n",
    "        lines=fp.readlines()\n",
    "    with open(base_path+\"\\\\groundtruth\"+\"\\\\\"+str(i)+\".txt\",'w',encoding='utf_8') as fo:\n",
    "        for line in lines:\n",
    "            if(line.find('_id')==-1):\n",
    "                fo.write(line)\n",
    "    i=i+1\n",
    "    if(i==2016):\n",
    "        break"
   ]
  },
  {
   "cell_type": "code",
   "execution_count": 48,
   "id": "019ba6dd",
   "metadata": {},
   "outputs": [
    {
     "name": "stdout",
     "output_type": "stream",
     "text": [
      "tt0080684\n",
      "tt0082971\n",
      "tt0308201\n",
      "tt2301123\n",
      "tt0086960\n",
      "tt0088763\n",
      "tt0092099\n",
      "tt0093010\n",
      "tt0095953\n",
      "tt0096895\n",
      "tt0099785\n",
      "tt0103064\n",
      "tt0103639\n",
      "tt0107290\n",
      "tt0109830\n",
      "tt0114709\n",
      "tt0116629\n",
      "tt0120338\n",
      "tt0120815\n",
      "tt0120915\n",
      "tt0170016\n",
      "tt0241527\n",
      "tt0145487\n",
      "tt0167260\n",
      "tt0298148\n",
      "tt0121766\n",
      "tt0383574\n",
      "tt0413300\n",
      "tt0468569\n",
      "tt0499549\n",
      "tt0435761\n",
      "tt1201607\n",
      "tt1345836\n",
      "tt1951264\n",
      "tt2179136\n",
      "tt0369610\n"
     ]
    }
   ],
   "source": [
    "imdbIDs=np.array([])\n",
    "genres=np.array([])\n",
    "for i in range(1980,2016):\n",
    "    file=open(base_path+\"\\\\groundtruth\"+\"\\\\\"+str(i)+\".txt\",'r',encoding='utf_8')\n",
    "    contents=file.read()\n",
    "    file.close()\n",
    "    contents=contents.replace('}','},')\n",
    "    contents=contents.strip()\n",
    "    contents=contents[:-1]\n",
    "    contents=\"[\"+contents+\"]\"\n",
    "    data=json.loads(contents)\n",
    "    print(data[0]['imdbID'])"
   ]
  },
  {
   "cell_type": "code",
   "execution_count": null,
   "id": "dda7eae0",
   "metadata": {},
   "outputs": [],
   "source": []
  }
 ],
 "metadata": {
  "kernelspec": {
   "display_name": "Python 3",
   "language": "python",
   "name": "python3"
  },
  "language_info": {
   "codemirror_mode": {
    "name": "ipython",
    "version": 3
   },
   "file_extension": ".py",
   "mimetype": "text/x-python",
   "name": "python",
   "nbconvert_exporter": "python",
   "pygments_lexer": "ipython3",
   "version": "3.8.8"
  }
 },
 "nbformat": 4,
 "nbformat_minor": 5
}
